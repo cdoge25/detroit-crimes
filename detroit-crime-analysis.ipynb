{
 "cells": [
  {
   "cell_type": "markdown",
   "id": "59b52039",
   "metadata": {},
   "source": [
    "# Detroit Crime Data Analysis\n",
    "\n",
    "This project analyzes [Detroit crime data](https://data.detroitmi.gov/datasets/8e532daeec1149879bd5e67fdd9c8be0_0/explore?h) from the City of Detroit Open Data Portal. I chose this dataset because it includes multiple features, such as neighborhoods, council districts, dates, and times of incidents, that allow for meaningful exploration and visualization. Note that the dataset lacks accompanying metadata, so some interpretations should be approached with caution.\n"
   ]
  }
 ],
 "metadata": {
  "language_info": {
   "name": "python"
  }
 },
 "nbformat": 4,
 "nbformat_minor": 5
}
